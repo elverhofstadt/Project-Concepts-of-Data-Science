{
 "cells": [
  {
   "attachments": {},
   "cell_type": "markdown",
   "id": "93827678",
   "metadata": {},
   "source": [
    "# Ternary Search Tree Project"
   ]
  },
  {
   "attachments": {},
   "cell_type": "markdown",
   "id": "902ad9fb",
   "metadata": {},
   "source": [
    "## Anahita Hosseinkhani (2262542), Oviya Arockia raj (2262353), Elisa Verhofstadt (2261793)"
   ]
  },
  {
   "attachments": {},
   "cell_type": "markdown",
   "id": "ba0f2afb-5d42-438b-86fc-03a36651e3df",
   "metadata": {},
   "source": [
    "A ternary search tree has nodes with the following attributes:\n",
    "* a character, can be `None`;\n",
    "* a Boolean flag that indicates whether the character represented\n",
    "  by this node has been the last in a string that was inserted in the\n",
    "  tree;\n",
    "* the \"less-than\" child;\n",
    "* the \"equals\" child and\n",
    "* the \"larger-than\" child.\n",
    "\n",
    "The data structure should support the following operations:\n",
    "* string insert\n",
    "* string search\n",
    "* prefix string search\n",
    "* return the number of strings stored in the data structure\n",
    "* return all strings stored in the data structure\n",
    "\n",
    "Also ensure that an instance of the data structure can be visualy represented, e.g., in aSCII format."
   ]
  },
  {
   "attachments": {},
   "cell_type": "markdown",
   "id": "e24e0d90-56fa-4aed-a031-bb252cf55300",
   "metadata": {},
   "source": [
    "# Implementation"
   ]
  },
  {
   "cell_type": "code",
   "execution_count": 101,
   "id": "2e38f69e-5b57-4ae7-85ce-c1f65d6d3673",
   "metadata": {},
   "outputs": [],
   "source": [
    "%load_ext autoreload\n",
    "%autoreload 2"
   ]
  },
  {
   "attachments": {},
   "cell_type": "markdown",
   "id": "c4e0a12a-37c0-4ed0-8bd3-225764f59f4c",
   "metadata": {},
   "source": [
    "The data structure has been implemented as a class."
   ]
  },
  {
   "cell_type": "code",
   "execution_count": 102,
   "id": "63f8d683-29d5-4e4d-bff8-d9264f5a18aa",
   "metadata": {
    "tags": []
   },
   "outputs": [],
   "source": [
    "from new_TNT import TernarySearchTree"
   ]
  },
  {
   "attachments": {},
   "cell_type": "markdown",
   "id": "29c9a229-e99c-4db0-afff-8623495b0d0f",
   "metadata": {
    "tags": []
   },
   "source": [
    "# Example usage"
   ]
  },
  {
   "attachments": {},
   "cell_type": "markdown",
   "id": "0df14272-c232-49cf-bacb-bdfe92d1801e",
   "metadata": {},
   "source": [
    "Create a new empty ternery search tree."
   ]
  },
  {
   "cell_type": "code",
   "execution_count": 103,
   "id": "1497b163-80f4-4615-9b96-de0d0d94bab4",
   "metadata": {
    "tags": []
   },
   "outputs": [],
   "source": [
    "tst = TernarySearchTree()"
   ]
  },
  {
   "attachments": {},
   "cell_type": "markdown",
   "id": "0f4fab8f-f1f8-4e90-b533-ceec45b60dcb",
   "metadata": {},
   "source": [
    "Insert the string `'abc'` into the tree."
   ]
  },
  {
   "cell_type": "code",
   "execution_count": 104,
   "id": "3b159de7-9668-4814-9d52-92ddd95736c8",
   "metadata": {
    "tags": []
   },
   "outputs": [],
   "source": [
    "tst.insert('abc')"
   ]
  },
  {
   "attachments": {},
   "cell_type": "markdown",
   "id": "5f3cbbf6-256e-4e36-815f-49fa9bbba3c8",
   "metadata": {},
   "source": [
    "Display the tree."
   ]
  },
  {
   "cell_type": "code",
   "execution_count": 105,
   "id": "596f3312-7d0f-42d2-9ea2-a50d81f7d8be",
   "metadata": {
    "tags": []
   },
   "outputs": [
    {
     "name": "stdout",
     "output_type": "stream",
     "text": [
      "└─char: a, terminates: False\n",
      "    └─char: b, terminates: False\n",
      "        └─char: c, terminates: True\n",
      "\n"
     ]
    }
   ],
   "source": [
    "print(tst)"
   ]
  },
  {
   "attachments": {},
   "cell_type": "markdown",
   "id": "e76a848b-88a8-4b2e-8ee7-e93bb64ecff0",
   "metadata": {},
   "source": [
    "Insert another string `'aqt'`."
   ]
  },
  {
   "cell_type": "code",
   "execution_count": 106,
   "id": "d59f3ef9-0523-4c20-a2fa-073165a35d5e",
   "metadata": {
    "tags": []
   },
   "outputs": [],
   "source": [
    "tst.insert('aqt')"
   ]
  },
  {
   "cell_type": "code",
   "execution_count": 107,
   "id": "a6a40c5d-e3e4-4104-ab0a-308a4ccdb5e1",
   "metadata": {
    "tags": []
   },
   "outputs": [
    {
     "name": "stdout",
     "output_type": "stream",
     "text": [
      "└─char: a, terminates: False\n",
      "    └─char: b, terminates: False\n",
      "        └─char: c, terminates: True\n",
      "        └─char: q, terminates: False\n",
      "            └─char: t, terminates: True\n",
      "\n"
     ]
    }
   ],
   "source": [
    "print(tst)"
   ]
  },
  {
   "attachments": {},
   "cell_type": "markdown",
   "id": "d3b133d1-b878-4e57-a2c9-17c44ba186cb",
   "metadata": {},
   "source": [
    "The tree should now contain two strings."
   ]
  },
  {
   "cell_type": "code",
   "execution_count": 108,
   "id": "45c03393-62ad-43e1-8667-5847d338d740",
   "metadata": {
    "tags": []
   },
   "outputs": [
    {
     "data": {
      "text/plain": [
       "2"
      ]
     },
     "execution_count": 108,
     "metadata": {},
     "output_type": "execute_result"
    }
   ],
   "source": [
    "len(tst)"
   ]
  },
  {
   "cell_type": "code",
   "execution_count": 109,
   "id": "1713d80e-e2e1-42b7-b1e0-cdc70aec6ceb",
   "metadata": {},
   "outputs": [
    {
     "data": {
      "text/plain": [
       "['abc', 'aqt']"
      ]
     },
     "execution_count": 109,
     "metadata": {},
     "output_type": "execute_result"
    }
   ],
   "source": [
    "tst.all_strings()"
   ]
  },
  {
   "attachments": {},
   "cell_type": "markdown",
   "id": "7350133c-1484-485f-a8dc-1cac2c462ec7",
   "metadata": {},
   "source": [
    "Search for the string `'ab'`, it should be found since it is a prefix of `'abc'`."
   ]
  },
  {
   "cell_type": "code",
   "execution_count": 110,
   "id": "ddd71cf3-f887-4939-bae7-4a1c0a85a9e2",
   "metadata": {
    "tags": []
   },
   "outputs": [
    {
     "data": {
      "text/plain": [
       "True"
      ]
     },
     "execution_count": 110,
     "metadata": {},
     "output_type": "execute_result"
    }
   ],
   "source": [
    "tst.search('ab')"
   ]
  },
  {
   "attachments": {},
   "cell_type": "markdown",
   "id": "45443693-ae5a-4584-bab2-7c20e8331dcc",
   "metadata": {},
   "source": [
    "The string `'ac'` should not be found."
   ]
  },
  {
   "cell_type": "code",
   "execution_count": 111,
   "id": "3756d5c9-0286-463a-8962-a0878ec067e2",
   "metadata": {
    "tags": []
   },
   "outputs": [
    {
     "data": {
      "text/plain": [
       "False"
      ]
     },
     "execution_count": 111,
     "metadata": {},
     "output_type": "execute_result"
    }
   ],
   "source": [
    "tst.search('ac')"
   ]
  },
  {
   "attachments": {},
   "cell_type": "markdown",
   "id": "c244f370-77fa-4291-bc8d-b8a4e4c3a680",
   "metadata": {},
   "source": [
    "The tree can also contain the empty string."
   ]
  },
  {
   "cell_type": "code",
   "execution_count": 112,
   "id": "66a3fdd6-bb30-42ec-9f2e-73c880b40209",
   "metadata": {
    "tags": []
   },
   "outputs": [],
   "source": [
    "tst.insert('')"
   ]
  },
  {
   "cell_type": "code",
   "execution_count": 113,
   "id": "b94f344b-2c62-4b75-95e0-d79f609072fd",
   "metadata": {
    "tags": []
   },
   "outputs": [
    {
     "data": {
      "text/plain": [
       "3"
      ]
     },
     "execution_count": 113,
     "metadata": {},
     "output_type": "execute_result"
    }
   ],
   "source": [
    "len(tst)"
   ]
  },
  {
   "cell_type": "code",
   "execution_count": 114,
   "id": "be2221c7-57af-449c-b235-4b9257b98229",
   "metadata": {
    "tags": []
   },
   "outputs": [
    {
     "name": "stdout",
     "output_type": "stream",
     "text": [
      "└─char: a, terminates: False\n",
      "    └─char: b, terminates: False\n",
      "        └─char: c, terminates: True\n",
      "        └─char: q, terminates: False\n",
      "            └─char: t, terminates: True\n",
      "\n"
     ]
    }
   ],
   "source": [
    "print(tst)"
   ]
  },
  {
   "cell_type": "code",
   "execution_count": 115,
   "id": "024e8ed2-b336-4234-8131-cd695864cf9f",
   "metadata": {},
   "outputs": [
    {
     "data": {
      "text/plain": [
       "['abc', 'aqt', '']"
      ]
     },
     "execution_count": 115,
     "metadata": {},
     "output_type": "execute_result"
    }
   ],
   "source": [
    "tst.all_strings()"
   ]
  },
  {
   "attachments": {},
   "cell_type": "markdown",
   "id": "1fee5f92-87e7-4ddb-b6e0-9001d4084faf",
   "metadata": {},
   "source": [
    "# Testing"
   ]
  },
  {
   "attachments": {},
   "cell_type": "markdown",
   "id": "0f641fa7-aaf7-406e-813b-4a84645ca2fb",
   "metadata": {},
   "source": [
    "The file `insert_words.txt` contains words that we can insert into a tree."
   ]
  },
  {
   "cell_type": "code",
   "execution_count": 116,
   "id": "19431f68-eafd-4e62-a410-06a7c7ec4168",
   "metadata": {
    "tags": []
   },
   "outputs": [],
   "source": [
    "tst = TernarySearchTree()\n",
    "with open('insert_words.txt') as file:\n",
    "    words = [\n",
    "        line.strip() for line in file\n",
    "    ]\n",
    "for word in words:\n",
    "    tst.insert(word)\n",
    "unique_words = set(words)\n"
   ]
  },
  {
   "attachments": {},
   "cell_type": "markdown",
   "id": "09ff039a-3780-4ef8-bed7-e6da0715800a",
   "metadata": {},
   "source": [
    "Verify the length of the data stucture."
   ]
  },
  {
   "cell_type": "code",
   "execution_count": 117,
   "id": "18090742-7a3a-400a-a077-e2904901a123",
   "metadata": {
    "tags": []
   },
   "outputs": [],
   "source": [
    "assert len(tst) == len(unique_words), \\\n",
    "       f'{len(tst)} in tree, expected {len(unique_words)}'"
   ]
  },
  {
   "attachments": {},
   "cell_type": "markdown",
   "id": "3715acd0-09b0-4d1d-9b1b-c33c7cca6ec9",
   "metadata": {},
   "source": [
    "Verify that all words that were inserted can be found."
   ]
  },
  {
   "cell_type": "code",
   "execution_count": 118,
   "id": "83fd3f2d-13ef-4cf9-9631-2f7550939efb",
   "metadata": {
    "tags": []
   },
   "outputs": [],
   "source": [
    "for word in unique_words:\n",
    "    assert tst.search(word), f'{word} not found'"
   ]
  },
  {
   "attachments": {},
   "cell_type": "markdown",
   "id": "914240b6-1980-4436-9596-991258aac0d1",
   "metadata": {},
   "source": [
    "Verify that all prefixes can be found."
   ]
  },
  {
   "cell_type": "code",
   "execution_count": 119,
   "id": "7b320bc5-d544-4aa2-82f7-549eef526757",
   "metadata": {
    "tags": []
   },
   "outputs": [],
   "source": [
    "for word in unique_words:\n",
    "    for i in range(len(word) - 1, 0, -1):\n",
    "        prefix = word[:i]\n",
    "        assert tst.search(prefix), f'{prefix} not found'"
   ]
  },
  {
   "attachments": {},
   "cell_type": "markdown",
   "id": "5e67261a-0260-451c-b975-5406458b7fc9",
   "metadata": {},
   "source": [
    "Check that when searching for a exact match, only the inserted words are found, and no prefixes."
   ]
  },
  {
   "cell_type": "code",
   "execution_count": 120,
   "id": "c15f2bf1-e026-468d-86f1-b7bf7d4857a0",
   "metadata": {
    "tags": []
   },
   "outputs": [],
   "source": [
    "for word in unique_words:\n",
    "    for i in range(len(word), 0, -1):\n",
    "        prefix = word[:i]\n",
    "        if prefix not in unique_words:\n",
    "            assert not tst.search(prefix, exact=True), \\\n",
    "                   f'{prefix} found'"
   ]
  },
  {
   "attachments": {},
   "cell_type": "markdown",
   "id": "63ce21af-9e38-473e-9bfa-572fc00beb7d",
   "metadata": {},
   "source": [
    "Check that the empty string is in the tree (since it is a prefix of any string)."
   ]
  },
  {
   "cell_type": "code",
   "execution_count": 121,
   "id": "02796895-029a-4f1f-aebe-19315b5a7964",
   "metadata": {
    "tags": []
   },
   "outputs": [],
   "source": [
    "assert tst.search(''), 'empty string not found'"
   ]
  },
  {
   "attachments": {},
   "cell_type": "markdown",
   "id": "21485551-72ef-448f-a473-8fd94063a98a",
   "metadata": {},
   "source": [
    "Check that the empty string is not in the tree for an exact search."
   ]
  },
  {
   "cell_type": "code",
   "execution_count": 122,
   "id": "b3f7943c-ccc0-414a-a4bd-90398a09a829",
   "metadata": {
    "tags": []
   },
   "outputs": [],
   "source": [
    "assert not tst.search('', exact=True), 'empty string found'"
   ]
  },
  {
   "attachments": {},
   "cell_type": "markdown",
   "id": "122ef82d-a23d-4245-899f-b070e0b13b0a",
   "metadata": {},
   "source": [
    "Check that words in the file `data/search_trees/not_insert_words.txt` can not be found in the tree."
   ]
  },
  {
   "cell_type": "code",
   "execution_count": 123,
   "id": "90ea39d5-5c96-4e79-8dc8-80c55de1cea2",
   "metadata": {
    "tags": []
   },
   "outputs": [],
   "source": [
    "with open('not_insert_words.txt') as file:\n",
    "    for line in file:\n",
    "        word = line.strip()\n",
    "        assert not tst.search(word), f'{word} should not be found'"
   ]
  },
  {
   "attachments": {},
   "cell_type": "markdown",
   "id": "bc93c3f1-a829-484c-a11d-d598914c3b8f",
   "metadata": {},
   "source": [
    "Check that all strings are returned."
   ]
  },
  {
   "cell_type": "code",
   "execution_count": 124,
   "id": "c09d0cab-02db-452e-8ac1-837e108ab63d",
   "metadata": {},
   "outputs": [],
   "source": [
    "all_strings = tst.all_strings()\n",
    "assert len(all_strings) == len(unique_words), \\\n",
    "       f'{len(all_strings)} words, expected {len(unique_words)}'\n",
    "assert sorted(all_strings) == sorted(unique_words), 'words do not match'"
   ]
  },
  {
   "attachments": {},
   "cell_type": "markdown",
   "id": "4243d5d6-60d5-4f1b-857b-f26a4b1216a1",
   "metadata": {},
   "source": [
    "If not output was generated, all tests have passed."
   ]
  },
  {
   "attachments": {},
   "cell_type": "markdown",
   "id": "fbd168c9",
   "metadata": {},
   "source": [
    "### Complexity and scaling behaviour"
   ]
  },
  {
   "attachments": {},
   "cell_type": "markdown",
   "id": "3694ea53",
   "metadata": {},
   "source": [
    "#### Theoretical expectations complexity"
   ]
  },
  {
   "attachments": {},
   "cell_type": "markdown",
   "id": "29c5ef0c",
   "metadata": {},
   "source": [
    "**Search (exact)**:\n",
    "In the average case, which is defined as a well-balanced ternary search tree with randomly distributed words, the search tree exhibits a logarithmic complexity of **O(log n)**, with n being the nodes included in the search tree. The logarithmic complexity arises from the fact that each step where a recursive function on left, right or middle node is called reduces the available range of nodes that can belong to a word by a constant of 3 (in a perfectly balanced ternary tree). This means that the number of steps needed to find a word is the logarithm of the total amount of nodes stored in the search tree.\n",
    "\n",
    "Considering the worst-case scenario, where the words are inserted in sorted order leading to an unbalanced tree, time complexity of the function increases to **O(n)**, representing linear search. The lack of balance in the tree causes the search process to traverse the tree linearly, visiting each node in a sequential manner until the desired word is found, resulting in an inefficient search.\n",
    "\n",
    "In the case of search for a word that does not exist, time complexity still remains **O(log n)**. This is because the search process follows the same path which narrows down the search range logarithmically, even if a word is not found.\n",
    "\n",
    "**Search (prefix)**: \n",
    "The time complexity of search for a prefix is similar to the time complexity of search for an exact word, being **O(log n)**. This is the case because to get to appropriate position you still need to perform the same amount of comparisions as is done in the exact search.\n",
    "Similarly, the time complexity for sorted words in the search tree is **O(n)** and search for a prefix that does not exist is **O(log n)**.\n",
    "\n",
    "**Insert**:\n",
    "The time complexity for insertion of a word is in the average case (i.e., well-balanced ternary search tree with randomly distributed words) is **O(log n)**, with n being the nodes already included in the search tree. This complexity arises from the process in which the appropriate position is found for the new word. At each step, a comparison is made between the current node and the string input. From this comparison the original space that needs to be inspected and where the string can be inserted is reduced by a factor, allowing for efficient insertion.\n",
    "\n",
    "However, the worst-case scenario is for a highly unbalanced tree where the words in the tree are in sorted order and the word currently is next in this specific order. This case results in an increase in time complexity to **O(n)**, because all possible comparisons need to be made before the word can be inserted. In a best-case scenario the word that needs to be inserted is in reverse order compared to order the words already present in the tree. For such specific words the time complexity is **O(1)**.\n",
    "\n",
    "**All strings**:\n",
    "The time complexity of the functionality that returns all string from a ternary search tree is **O(n)** with n the numbers of nodes in the tree. Visiting a node enables the identification of the presence of a word. By using depth-first search the function ensures that each node is visited only once. Therefore, the time it takes to retrieve all words grows linearly with the amount of words (and their length) that are inserted in the tree structure. No best or worst cases can be identified for this function."
   ]
  },
  {
   "attachments": {},
   "cell_type": "markdown",
   "id": "7e94efc4",
   "metadata": {},
   "source": [
    "#### Scaling behaviour"
   ]
  },
  {
   "cell_type": "code",
   "execution_count": 11,
   "id": "f277eba7",
   "metadata": {},
   "outputs": [],
   "source": [
    "import random\n",
    "import time\n",
    "import matplotlib.pyplot as plt\n",
    "\n",
    "with open('corncob_lowercase.txt') as file:\n",
    "    words = [line.strip() for line in file]\n",
    "\n",
    "sizes = [100, 500, 1_000, 5_000, 10_000, 20_000, 30_000, 40_000, 50_000]\n",
    "\n",
    "samples = [\n",
    "    random.sample(words, k=size) for size in sizes\n",
    "]"
   ]
  },
  {
   "attachments": {},
   "cell_type": "markdown",
   "id": "c91a283d",
   "metadata": {},
   "source": [
    "**Search (exact):**"
   ]
  },
  {
   "cell_type": "code",
   "execution_count": 85,
   "id": "66edbdeb",
   "metadata": {},
   "outputs": [
    {
     "data": {
      "text/plain": [
       "{100: 0.1755688,\n",
       " 500: 0.2400627,\n",
       " 1000: 0.2698241,\n",
       " 5000: 0.9208908,\n",
       " 10000: 0.3745856,\n",
       " 20000: 0.3243925,\n",
       " 30000: 0.3653444,\n",
       " 40000: 0.6459831,\n",
       " 50000: 0.3759372}"
      ]
     },
     "execution_count": 85,
     "metadata": {},
     "output_type": "execute_result"
    }
   ],
   "source": [
    "nr_runs = 1_000\n",
    "times = {}\n",
    "# search 20 words in tree structure\n",
    "search_sample = random.sample(words, k=20)\n",
    "for sample in samples:\n",
    "    tst = TernarySearchTree()\n",
    "    for word in sample:\n",
    "        tst.insert(word)\n",
    "    times[len(sample)] = 0.0\n",
    "    for _ in range(nr_runs):\n",
    "        start_time = time.time_ns()\n",
    "        for word in search_sample:\n",
    "            tst.search(word, exact='True')\n",
    "        end_time = time.time_ns()\n",
    "        times[len(sample)] += end_time - start_time\n",
    "    times[len(sample)] /= nr_runs*1_000_000.0\n",
    "times"
   ]
  },
  {
   "cell_type": "code",
   "execution_count": 86,
   "id": "835eec66",
   "metadata": {},
   "outputs": [
    {
     "data": {
      "image/png": "[encoded data removed]",
      "text/plain": [
       "<Figure size 640x480 with 1 Axes>"
      ]
     },
     "metadata": {},
     "output_type": "display_data"
    }
   ],
   "source": [
    "plt.plot(times.keys(), times.values());"
   ]
  },
  {
   "attachments": {},
   "cell_type": "markdown",
   "id": "07fd8688",
   "metadata": {},
   "source": [
    "From the above plot, no clear time complexity pattern can be identified due to the large variability."
   ]
  },
  {
   "attachments": {},
   "cell_type": "markdown",
   "id": "636f6c2e",
   "metadata": {},
   "source": [
    "Since the scaling test with a maximum of 50.000 words stored in the ternary search tree does not suffice in capturing the scaling behaviour of the search function of the ternary search tree, a larger ternary search tree is sought after. For this purpose, a list of 497.187 words if gathered from www.wordfrequency.info, containing words that appear at least four times in the Corpus of Contemporary American English (COCA). \n",
    "This file will be used for all of the following scaling tests."
   ]
  },
  {
   "cell_type": "code",
   "execution_count": 61,
   "id": "3e685620",
   "metadata": {},
   "outputs": [
    {
     "data": {
      "text/plain": [
       "497187"
      ]
     },
     "execution_count": 61,
     "metadata": {},
     "output_type": "execute_result"
    }
   ],
   "source": [
    "with open('full_word_list.txt') as file:\n",
    "    words_full = [line.strip() for line in file]\n",
    "\n",
    "len(words_full)"
   ]
  },
  {
   "cell_type": "code",
   "execution_count": 62,
   "id": "3c6b569b",
   "metadata": {},
   "outputs": [],
   "source": [
    "sizes = [100, 5_000, 25_000, 50_000, 100_000, 150_000, 200_000, 250_000, 300_000, 350_000, 400_000, 450_000]\n",
    "\n",
    "\n",
    "samples_full = [\n",
    "    random.sample(words_full, k=size) for size in sizes\n",
    "]"
   ]
  },
  {
   "cell_type": "code",
   "execution_count": 63,
   "id": "3f7d74f4",
   "metadata": {},
   "outputs": [
    {
     "data": {
      "text/plain": [
       "{100: 0.10174085,\n",
       " 5000: 0.28075911,\n",
       " 25000: 0.23532258,\n",
       " 50000: 0.41158572,\n",
       " 100000: 0.40184496,\n",
       " 150000: 0.32439142,\n",
       " 200000: 0.2576248,\n",
       " 250000: 0.31365738,\n",
       " 300000: 0.27625821,\n",
       " 350000: 0.31822129,\n",
       " 400000: 0.27576898,\n",
       " 450000: 0.31157069}"
      ]
     },
     "execution_count": 63,
     "metadata": {},
     "output_type": "execute_result"
    }
   ],
   "source": [
    "nr_runs = 10_000\n",
    "times = {}\n",
    "# search 20 words in tree structure\n",
    "search_sample = random.sample(words_full, k=20)\n",
    "for sample in samples_full:\n",
    "    tst = TernarySearchTree()\n",
    "    for word in sample:\n",
    "        tst.insert(word)\n",
    "    times[len(sample)] = 0.0\n",
    "    for _ in range(nr_runs):\n",
    "        start_time = time.time_ns()\n",
    "        for word in search_sample:\n",
    "            tst.search(word, exact='True')\n",
    "        end_time = time.time_ns()\n",
    "        times[len(sample)] += end_time - start_time\n",
    "    times[len(sample)] /= nr_runs*1_000_000.0\n",
    "times"
   ]
  },
  {
   "cell_type": "code",
   "execution_count": 64,
   "id": "2409eae0",
   "metadata": {},
   "outputs": [
    {
     "data": {
      "image/png": "[encoded data removed]",
      "text/plain": [
       "<Figure size 640x480 with 1 Axes>"
      ]
     },
     "metadata": {},
     "output_type": "display_data"
    }
   ],
   "source": [
    "plt.plot(times.keys(), times.values());"
   ]
  },
  {
   "attachments": {},
   "cell_type": "markdown",
   "id": "5b2df2a7",
   "metadata": {},
   "source": [
    "**Search (prefix):**"
   ]
  },
  {
   "cell_type": "code",
   "execution_count": 78,
   "id": "4f8a33a8",
   "metadata": {},
   "outputs": [
    {
     "data": {
      "text/plain": [
       "{100: 0.08247271,\n",
       " 5000: 0.20601972,\n",
       " 25000: 0.26397441,\n",
       " 50000: 0.21775076,\n",
       " 100000: 0.33386577,\n",
       " 150000: 0.31157698,\n",
       " 200000: 0.23941764,\n",
       " 250000: 0.30778274,\n",
       " 300000: 0.23570787,\n",
       " 350000: 0.20293024,\n",
       " 400000: 0.25104815,\n",
       " 450000: 0.30987693}"
      ]
     },
     "execution_count": 78,
     "metadata": {},
     "output_type": "execute_result"
    }
   ],
   "source": [
    "nr_runs = 10_000\n",
    "times = {}\n",
    "\n",
    "search_sample = random.sample(words_full, k=20)\n",
    "random_sample = [sample_word[:-2] for sample_word in random_sample]\n",
    "\n",
    "for sample in samples_full:\n",
    "    tst = TernarySearchTree()\n",
    "    for word in sample:\n",
    "        tst.insert(word)\n",
    "    times[len(sample)] = 0.0\n",
    "    for _ in range(nr_runs):\n",
    "        start_time = time.time_ns()\n",
    "        for word in search_sample:\n",
    "            tst.search(word)\n",
    "        end_time = time.time_ns()\n",
    "        times[len(sample)] += end_time - start_time\n",
    "    times[len(sample)] /= nr_runs*1_000_000.0\n",
    "times"
   ]
  },
  {
   "cell_type": "code",
   "execution_count": 79,
   "id": "42db4acf",
   "metadata": {},
   "outputs": [
    {
     "data": {
      "image/png": "[encoded data removed]",
      "text/plain": [
       "<Figure size 640x480 with 1 Axes>"
      ]
     },
     "metadata": {},
     "output_type": "display_data"
    }
   ],
   "source": [
    "plt.plot(times.keys(), times.values());"
   ]
  },
  {
   "attachments": {},
   "cell_type": "markdown",
   "id": "ac26a23b",
   "metadata": {},
   "source": [
    "**Insert:**"
   ]
  },
  {
   "cell_type": "code",
   "execution_count": 94,
   "id": "2362e1e1",
   "metadata": {},
   "outputs": [
    {
     "data": {
      "text/plain": [
       "{100: 0.20855155,\n",
       " 5000: 0.37921202,\n",
       " 25000: 0.47574791,\n",
       " 50000: 0.36356225,\n",
       " 100000: 0.37409587,\n",
       " 150000: 0.31690426,\n",
       " 200000: 0.31832198,\n",
       " 250000: 0.41039638,\n",
       " 300000: 0.33221624,\n",
       " 350000: 0.26269751,\n",
       " 400000: 0.47213324,\n",
       " 450000: 0.28264928}"
      ]
     },
     "execution_count": 94,
     "metadata": {},
     "output_type": "execute_result"
    }
   ],
   "source": [
    "nr_runs = 10_000\n",
    "times = {}\n",
    "insert_sample = random.sample(words_full, k=20)\n",
    "for sample in samples_full:\n",
    "    tst = TernarySearchTree()\n",
    "    for word in sample:\n",
    "        tst.insert(word)\n",
    "    times[len(sample)] = 0.0\n",
    "    for _ in range(nr_runs):\n",
    "        start_time = time.time_ns()\n",
    "        for word in insert_sample:\n",
    "            tst.insert(word)\n",
    "        end_time = time.time_ns()\n",
    "        times[len(sample)] += end_time - start_time\n",
    "    times[len(sample)] /= nr_runs*1_000_000.0\n",
    "times"
   ]
  },
  {
   "cell_type": "code",
   "execution_count": 95,
   "id": "32b1c9e3",
   "metadata": {},
   "outputs": [
    {
     "data": {
      "image/png": "[encoded data removed]",
      "text/plain": [
       "<Figure size 640x480 with 1 Axes>"
      ]
     },
     "metadata": {},
     "output_type": "display_data"
    }
   ],
   "source": [
    "plt.plot(times.keys(), times.values());"
   ]
  },
  {
   "attachments": {},
   "cell_type": "markdown",
   "id": "974d6912",
   "metadata": {},
   "source": [
    "**All strings:**"
   ]
  },
  {
   "cell_type": "code",
   "execution_count": 99,
   "id": "f00076de",
   "metadata": {},
   "outputs": [
    {
     "data": {
      "text/plain": [
       "{100: 1.09699,\n",
       " 5000: 34.80691,\n",
       " 25000: 169.37687,\n",
       " 50000: 348.22501,\n",
       " 100000: 491.88492,\n",
       " 150000: 596.01681,\n",
       " 200000: 1042.30048,\n",
       " 250000: 1139.90535,\n",
       " 300000: 1135.92705,\n",
       " 350000: 1200.48981,\n",
       " 400000: 1252.63925,\n",
       " 450000: 1506.43641}"
      ]
     },
     "execution_count": 99,
     "metadata": {},
     "output_type": "execute_result"
    }
   ],
   "source": [
    "nr_runs = 10\n",
    "times = {}\n",
    "# search 20 words in tree structure\n",
    "insert_sample = random.sample(words_full, k=20)\n",
    "for sample in samples_full:\n",
    "    tst = TernarySearchTree()\n",
    "    for word in sample:\n",
    "        tst.insert(word)\n",
    "    times[len(sample)] = 0.0\n",
    "    for _ in range(nr_runs):\n",
    "        start_time = time.time_ns()\n",
    "        tst.all_strings()\n",
    "        end_time = time.time_ns()\n",
    "        times[len(sample)] += end_time - start_time\n",
    "    times[len(sample)] /= nr_runs*1_000_000.0\n",
    "times"
   ]
  },
  {
   "cell_type": "code",
   "execution_count": 100,
   "id": "e73014af",
   "metadata": {},
   "outputs": [
    {
     "data": {
      "image/png": "[encoded data removed]",
      "text/plain": [
       "<Figure size 640x480 with 1 Axes>"
      ]
     },
     "metadata": {},
     "output_type": "display_data"
    }
   ],
   "source": [
    "plt.plot(times.keys(), times.values());"
   ]
  },
  {
   "attachments": {},
   "cell_type": "markdown",
   "id": "214c3e85",
   "metadata": {},
   "source": [
    "## Benchmark test"
   ]
  },
  {
   "attachments": {},
   "cell_type": "markdown",
   "id": "1873e5a6",
   "metadata": {},
   "source": [
    "To evaluate the overall performance of the ternary tree functions a benchmark test is performed."
   ]
  },
  {
   "cell_type": "code",
   "execution_count": 7,
   "id": "a3b50979",
   "metadata": {},
   "outputs": [],
   "source": [
    "tst = TernarySearchTree()\n",
    "\n",
    "with open('full_word_list.txt') as file:\n",
    "    words = [\n",
    "        line.strip() for line in file\n",
    "    ]"
   ]
  },
  {
   "cell_type": "code",
   "execution_count": 8,
   "id": "fa26af07",
   "metadata": {},
   "outputs": [],
   "source": [
    "import pytest\n",
    "\n",
    "def insert_words(words):\n",
    "    for word in words:\n",
    "        tst.insert(word)\n",
    "\n",
    "@pytest.mark.benchmark\n",
    "def test_insert(benchmark):\n",
    "    benchmark(insert_words, words)\n",
    "\n",
    "\n",
    "@pytest.mark.benchmark\n",
    "def test_search(benchmark):\n",
    "    benchmark(tst.search, \"proxy\")\n",
    "\n",
    "@pytest.mark.benchmark\n",
    "def test_all_search(benchmark):\n",
    "    benchmark(tst.all_strings)"
   ]
  },
  {
   "attachments": {},
   "cell_type": "markdown",
   "id": "71b8347e",
   "metadata": {},
   "source": [
    "| Name (time in us) | Min             | Max             | Mean            | StdDev         | Median          | IQR            |\n",
    "|-------------------|-----------------|-----------------|-----------------|----------------|-----------------|----------------|\n",
    "| test_search       | 31.2880         | 281.6000        | 34.9378         | 7.4970         | 34.1330         | 0.5700         |\n",
    "| test_all_search   | 1,232,972.5820  | 1,955,066.8670  | 1,488,283.7298  | 290,537.6370   | 1,384,650.9180  | 387,349.0163   |\n",
    "| test_insert       | 15,079,314.5120 | 18,963,927.3140 | 16,353,968.6836 | 1,544,126.5399 | 15,737,625.5250 | 1,692,361.7257 |"
   ]
  },
  {
   "attachments": {},
   "cell_type": "markdown",
   "id": "2c15a153",
   "metadata": {},
   "source": [
    "Results of the benchmark test are shown in microseconds. For all functions, the minimum, maximum, mean and median execution time is provided, together with the standard deviation and IQR. It is clear that the search function is the fasted, with a mean execution time of 0.034938 milliseconds (SD = 0.007497 milliseconds). Secondly, the function that returns all strings has a mean execution time of 1.4883 seconds (SD = 0.29 seconds). It makes sense that this function has a larger execution time. Whereas the search function halts execution when an appropriate endpoint is reached, thus only traversing a small portion of the graph, the all strings function is required to have visited all points in the graph. Lastly, the insert function has a mean execution time of 16.353 seconds (SD = 1.544 seconds). Note that this execution time is based on the creation of an entire tree structure, not the insertion of one word. In this case, the benchmarking procedure used the list of 497.187 words to insert in the graph. Benchmark test with different input data sizes would result in different execution time estimations.\n",
    "\n",
    "Overall, these execution times provide arguments for an efficient implementation of the ternary tree structure and its associated functions."
   ]
  }
 ],
 "metadata": {
  "kernelspec": {
   "display_name": "Python 3 (ipykernel)",
   "language": "python",
   "name": "python3"
  },
  "language_info": {
   "codemirror_mode": {
    "name": "ipython",
    "version": 3
   },
   "file_extension": ".py",
   "mimetype": "text/x-python",
   "name": "python",
   "nbconvert_exporter": "python",
   "pygments_lexer": "ipython3",
   "version": "3.8.16"
  }
 },
 "nbformat": 4,
 "nbformat_minor": 5
}
