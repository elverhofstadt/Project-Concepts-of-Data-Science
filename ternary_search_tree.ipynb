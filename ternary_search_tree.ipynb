{
 "cells": [
  {
   "attachments": {},
   "cell_type": "markdown",
   "id": "93827678",
   "metadata": {},
   "source": [
    "# Ternary Search Tree Project"
   ]
  },
  {
   "attachments": {},
   "cell_type": "markdown",
   "id": "902ad9fb",
   "metadata": {},
   "source": [
    "## Anahita Hosseinkhani (2262542), Oviya Arockia raj (2262353), Elisa Verhofstadt (2261793)"
   ]
  },
  {
   "attachments": {},
   "cell_type": "markdown",
   "id": "ba0f2afb-5d42-438b-86fc-03a36651e3df",
   "metadata": {},
   "source": [
    "A ternary search tree has nodes with the following attributes:\n",
    "* a character, can be `None`;\n",
    "* a Boolean flag that indicates whether the character represented\n",
    "  by this node has been the last in a string that was inserted in the\n",
    "  tree;\n",
    "* the \"less-than\" child;\n",
    "* the \"equals\" child and\n",
    "* the \"larger-than\" child.\n",
    "\n",
    "The data structure should support the following operations:\n",
    "* string insert\n",
    "* string search\n",
    "* prefix string search\n",
    "* return the number of strings stored in the data structure\n",
    "* return all strings stored in the data structure\n",
    "\n",
    "Also ensure that an instance of the data structure can be visualy represented, e.g., in aSCII format."
   ]
  },
  {
   "attachments": {},
   "cell_type": "markdown",
   "id": "e24e0d90-56fa-4aed-a031-bb252cf55300",
   "metadata": {},
   "source": [
    "# Implementation"
   ]
  },
  {
   "cell_type": "code",
   "execution_count": 1,
   "id": "2e38f69e-5b57-4ae7-85ce-c1f65d6d3673",
   "metadata": {},
   "outputs": [],
   "source": [
    "%load_ext autoreload\n",
    "%autoreload 2"
   ]
  },
  {
   "attachments": {},
   "cell_type": "markdown",
   "id": "c4e0a12a-37c0-4ed0-8bd3-225764f59f4c",
   "metadata": {},
   "source": [
    "The data structure has been implemented as a class."
   ]
  },
  {
   "cell_type": "code",
   "execution_count": 2,
   "id": "63f8d683-29d5-4e4d-bff8-d9264f5a18aa",
   "metadata": {
    "tags": []
   },
   "outputs": [],
   "source": [
    "\n",
    "import random\n",
    "import networkx as nx\n",
    "import matplotlib.pyplot as plt\n",
    "import json\n",
    "\n",
    "\n",
    "class TernarySearchTree:\n",
    "    root_node = None\n",
    "\n",
    "    class TSTNode:\n",
    "        def __init__(self, value):\n",
    "            self.value = value\n",
    "            self.right_node = None\n",
    "            self.left_node = None\n",
    "            self.middle_node = None\n",
    "            self.is_terminal = False\n",
    "\n",
    "    def __init__(self):\n",
    "        self.root_node = None\n",
    "        self.empty_string_present = False\n",
    "\n",
    "    def create_node(self, value):\n",
    "        # Create a new node with the given value\n",
    "        node = self.TSTNode(value)\n",
    "        return node\n",
    "\n",
    "    def insert(self, string):\n",
    "        if string == '':\n",
    "            self.empty_string_present = True\n",
    "        else:\n",
    "            self.root_node = self._insert_recursive(self.root_node, string, 0)\n",
    "\n",
    "    def _insert_recursive(self, node, string, position):\n",
    "        # If current node is None, create a new node with the current character\n",
    "        if node is None:\n",
    "            node = self.create_node(string[position])\n",
    "\n",
    "        # If the current character is smaller than the node's value,\n",
    "        # go to the left subtree\n",
    "        if string[position] < node.value:\n",
    "            node.left_node = self._insert_recursive(\n",
    "                node.left_node, string, position)\n",
    "\n",
    "        # If the current character is greater than the node's value,\n",
    "        # go to the right subtree\n",
    "        elif string[position] > node.value:\n",
    "            node.right_node = self._insert_recursive(\n",
    "                node.right_node, string, position)\n",
    "\n",
    "        # If last character of string is reached set the is_terminal flag\n",
    "        # to True for the last character of the string\n",
    "        elif position == len(string) - 1:\n",
    "            node.is_terminal = True\n",
    "\n",
    "        # If the current character is equal to the node's value, go to middle subtree\n",
    "        else:\n",
    "            node.middle_node = self._insert_recursive(\n",
    "                node.middle_node, string, position + 1)\n",
    "\n",
    "        # Return modified node\n",
    "        return node\n",
    "\n",
    "    def search(self, string, exact=False):\n",
    "        # If search string is empty and empty string is present in tree, return True\n",
    "\n",
    "        # If exact is True, perform an exact search starting from the root node\n",
    "        if exact:\n",
    "            if string == '' and self.empty_string_present:\n",
    "                return True\n",
    "            elif string == '':\n",
    "                return False\n",
    "            return self._search(self.root_node, string, 0)\n",
    "        # If exact is False, perform a prefix search starting from the root node\n",
    "        else:\n",
    "            # If the prefix string is an empty string, return True, empty string is prefix\n",
    "            # for every string\n",
    "            if string == '':\n",
    "                return True\n",
    "            return self._prefix_search(self.root_node, string, 0)\n",
    "\n",
    "    def _search(self, node, string, position):\n",
    "        # If the current node is None, the string does not exist in the tree, return False\n",
    "        # If current position does not exist in string, return False\n",
    "        if node is None or position > len(string) - 1:\n",
    "            return False\n",
    "\n",
    "        # If the current character is smaller than the node's value, search in\n",
    "        # the left subtree\n",
    "        if string[position] < node.value:\n",
    "            return self._search(node.left_node, string, position)\n",
    "        # If the current character is greater than the node's value, search in\n",
    "        #  the right subtree\n",
    "        if string[position] > node.value:\n",
    "            return self._search(node.right_node, string, position)\n",
    "        # If we reach the last character of the string and the node is marked\n",
    "        # as terminal and same as current node value, the string is found\n",
    "        if position == len(string) - 1 and node.is_terminal and node.value == string[position]:\n",
    "            return True\n",
    "        # Otherwise, current character is equal to the node's value,\n",
    "        # continue searching in the middle subtree for the next character\n",
    "        return self._search(node.middle_node, string, position + 1)\n",
    "\n",
    "    def _prefix_search(self, node, prefix, position):\n",
    "        # If the current node is None, the prefix string does not exist in the tree\n",
    "        if node is None:\n",
    "            return False\n",
    "\n",
    "        # If the current character is smaller than the node's value, search in\n",
    "        # the left subtree\n",
    "        if prefix[position] < node.value:\n",
    "            return self._prefix_search(node.left_node, prefix, position)\n",
    "\n",
    "        # If the current character is greater than the node's value, search in\n",
    "        # the right subtree\n",
    "        elif prefix[position] > node.value:\n",
    "            return self._prefix_search(node.right_node, prefix, position)\n",
    "\n",
    "        # If we reach the last character of the prefix string and it matches\n",
    "        # the node's value, the prefix string is found\n",
    "        elif position == len(prefix) - 1 and node.value == prefix[position]:\n",
    "            return True\n",
    "\n",
    "        # Otherwise, the current character of the prefix string and it matches\n",
    "        # the node's current value match but has not reached the last character,\n",
    "        # continue searching in the middle subtree for the next character\n",
    "        else:\n",
    "            return self._prefix_search(node.middle_node, prefix, position + 1)\n",
    "\n",
    "    def all_strings(self):\n",
    "        # Start recursive function for identification of all strings at root node\n",
    "        strings_in_tree = self._all_strings(self.root_node)\n",
    "\n",
    "        # If empty string is present in the tree, add this to list\n",
    "        if self.empty_string_present:\n",
    "            strings_in_tree.append('')\n",
    "        return strings_in_tree\n",
    "\n",
    "    def _all_strings(self, node, prefix=\"\", strings=None):\n",
    "        # If strings is not provided, initialize an empty list\n",
    "        if strings is None:\n",
    "            strings = []\n",
    "\n",
    "        # If the current node is None, return the collected strings\n",
    "        if node is None:\n",
    "            return strings\n",
    "\n",
    "        # If the current node is a terminal node (end of a word), append\n",
    "        # the prefix together with the node value to the strings list\n",
    "        if node.is_terminal:\n",
    "            strings.append(prefix + node.value)\n",
    "\n",
    "        # Recursively traverse the left subtree, keeping the prefix unchanged\n",
    "        strings = self._all_strings(node.left_node, prefix, strings)\n",
    "        # Recursively traverse the middle subtree, updating the prefix by\n",
    "        # adding the current node value\n",
    "        strings = self._all_strings(\n",
    "            node.middle_node, prefix + node.value, strings)\n",
    "        # Recursively traverse the right subtree, keeping the prefix unchanged\n",
    "        strings = self._all_strings(node.right_node, prefix, strings)\n",
    "\n",
    "        return strings\n",
    "\n",
    "    def __len__(self):\n",
    "        return self.count_strings()\n",
    "\n",
    "    def count_strings(self):\n",
    "        # Start recursive function for countering strings at root node\n",
    "        count_in_tree = self._count_strings(self.root_node)\n",
    "\n",
    "        # If empty string is present in the tree, increase count with 1\n",
    "        if self.empty_string_present:\n",
    "            count_in_tree += 1\n",
    "        return count_in_tree\n",
    "\n",
    "    def _count_strings(self, node):\n",
    "        # If the current node is None, there are no node to find terminal,\n",
    "        # so return 0\n",
    "        if node is None:\n",
    "            return 0\n",
    "\n",
    "        count = 0\n",
    "\n",
    "        # If the current node is a terminal node (end of a string),\n",
    "        # increment the count by 1\n",
    "        if node.is_terminal:\n",
    "            count += 1\n",
    "\n",
    "        # Recursively count the number of terminal nodes in the left subtree\n",
    "        count += self._count_strings(node.left_node)\n",
    "        # Recursively count the number of terminal nodes in the middle subtree\n",
    "        count += self._count_strings(node.middle_node)\n",
    "        # Recursively count the number of terminal nodes in the right subtree\n",
    "        count += self._count_strings(node.right_node)\n",
    "\n",
    "        return count\n",
    "\n",
    "    def __str__(self):\n",
    "        return self.print_tree()\n",
    "\n",
    "    def print_tree(self):\n",
    "        return self._print_tree(self.root_node, \"\")\n",
    "\n",
    "    def _print_tree(self, node, parent=None, prefix=\"\"):\n",
    "        # If the current node is None, return an empty string\n",
    "        if node is None:\n",
    "            return \"\"\n",
    "\n",
    "        result = \"\"\n",
    "\n",
    "        # Add indentation based on the prefix and show a visual\n",
    "        # representation of the tree structure\n",
    "        result += \" \" * len(prefix)\n",
    "        if parent is not None:\n",
    "            result += \"└─\"\n",
    "\n",
    "        # Add the current node's value and terminating status to the\n",
    "        # result string\n",
    "        result += f\"char: {node.value}, terminates: {node.is_terminal}\\n\"\n",
    "\n",
    "        # Recursively call _print_tree on the left, middle, and right subtrees,\n",
    "        # updating the prefix to create the tree structure representation\n",
    "        result += self._print_tree(node.left_node, node, prefix + \"  │\")\n",
    "        result += self._print_tree(node.middle_node, node, prefix + \"  ├─\")\n",
    "        result += self._print_tree(node.right_node, node, prefix + \"  └─\")\n",
    "\n",
    "        return result\n",
    "\n",
    "    def plot_tree(self):\n",
    "        G = nx.Graph()\n",
    "        labels = {}\n",
    "        visited = set()\n",
    "        self._plot_tree(self.root_node, G, labels, visited=visited)\n",
    "\n",
    "        # Adjust the width and height as needed\n",
    "        fig, ax = plt.subplots(figsize=(8, 6))\n",
    "        pos = nx.nx_pydot.graphviz_layout(G, prog='dot')\n",
    "        nx.draw_networkx(G, pos, with_labels=True, labels=labels, node_size=500, node_color='lightblue',\n",
    "                         font_weight='bold', font_size=12, edge_color='gray', ax=ax)\n",
    "\n",
    "        plt.show()\n",
    "\n",
    "    def _plot_tree(self, node, G, labels, visited):\n",
    "        # If the current node is None, return to escape recursive call\n",
    "        if node is None:\n",
    "            return\n",
    "\n",
    "        # Get the unique ID of the node\n",
    "        node_id = id(node)\n",
    "\n",
    "        # If the node has already been visited, return to escape recursive call\n",
    "        if node_id in visited:\n",
    "            return\n",
    "\n",
    "        # Add the node to the graph and provide its label as the node's value\n",
    "        visited.add(node_id)\n",
    "        G.add_node(node_id)\n",
    "        labels[node_id] = node.value\n",
    "\n",
    "        # Recursively process and plot the left, middle, and right subtrees\n",
    "        if node.left_node is not None:\n",
    "            left_id = id(node.left_node)\n",
    "            G.add_edge(node_id, left_id)\n",
    "            self._plot_tree(node.left_node, G, labels, visited)\n",
    "\n",
    "        if node.middle_node is not None:\n",
    "            middle_id = id(node.middle_node)\n",
    "            G.add_edge(node_id, middle_id)\n",
    "            self._plot_tree(node.middle_node, G, labels, visited)\n",
    "\n",
    "        if node.right_node is not None:\n",
    "            right_id = id(node.right_node)\n",
    "            G.add_edge(node_id, right_id)\n",
    "            self._plot_tree(node.right_node, G, labels, visited)\n",
    "\n",
    "    def visualize_tree(self):\n",
    "        # Use the plot_tree method to generate and display the tree visualization\n",
    "        self.plot_tree()\n"
   ]
  },
  {
   "attachments": {},
   "cell_type": "markdown",
   "id": "29c9a229-e99c-4db0-afff-8623495b0d0f",
   "metadata": {
    "tags": []
   },
   "source": [
    "# Example usage"
   ]
  },
  {
   "attachments": {},
   "cell_type": "markdown",
   "id": "0df14272-c232-49cf-bacb-bdfe92d1801e",
   "metadata": {},
   "source": [
    "Create a new empty ternery search tree."
   ]
  },
  {
   "cell_type": "code",
   "execution_count": 3,
   "id": "1497b163-80f4-4615-9b96-de0d0d94bab4",
   "metadata": {
    "tags": []
   },
   "outputs": [],
   "source": [
    "tst = TernarySearchTree()"
   ]
  },
  {
   "attachments": {},
   "cell_type": "markdown",
   "id": "0f4fab8f-f1f8-4e90-b533-ceec45b60dcb",
   "metadata": {},
   "source": [
    "Insert the string `'abc'` into the tree."
   ]
  },
  {
   "cell_type": "code",
   "execution_count": 4,
   "id": "3b159de7-9668-4814-9d52-92ddd95736c8",
   "metadata": {
    "tags": []
   },
   "outputs": [],
   "source": [
    "tst.insert('abc')"
   ]
  },
  {
   "attachments": {},
   "cell_type": "markdown",
   "id": "5f3cbbf6-256e-4e36-815f-49fa9bbba3c8",
   "metadata": {},
   "source": [
    "Display the tree."
   ]
  },
  {
   "cell_type": "code",
   "execution_count": 5,
   "id": "596f3312-7d0f-42d2-9ea2-a50d81f7d8be",
   "metadata": {
    "tags": []
   },
   "outputs": [
    {
     "name": "stdout",
     "output_type": "stream",
     "text": [
      "└─char: a, terminates: False\n",
      "    └─char: b, terminates: False\n",
      "        └─char: c, terminates: True\n",
      "\n"
     ]
    }
   ],
   "source": [
    "print(tst)"
   ]
  },
  {
   "attachments": {},
   "cell_type": "markdown",
   "id": "e76a848b-88a8-4b2e-8ee7-e93bb64ecff0",
   "metadata": {},
   "source": [
    "Insert another string `'aqt'`."
   ]
  },
  {
   "cell_type": "code",
   "execution_count": 6,
   "id": "d59f3ef9-0523-4c20-a2fa-073165a35d5e",
   "metadata": {
    "tags": []
   },
   "outputs": [],
   "source": [
    "tst.insert('aqt')"
   ]
  },
  {
   "cell_type": "code",
   "execution_count": 7,
   "id": "a6a40c5d-e3e4-4104-ab0a-308a4ccdb5e1",
   "metadata": {
    "tags": []
   },
   "outputs": [
    {
     "name": "stdout",
     "output_type": "stream",
     "text": [
      "└─char: a, terminates: False\n",
      "    └─char: b, terminates: False\n",
      "        └─char: c, terminates: True\n",
      "        └─char: q, terminates: False\n",
      "            └─char: t, terminates: True\n",
      "\n"
     ]
    }
   ],
   "source": [
    "print(tst)"
   ]
  },
  {
   "attachments": {},
   "cell_type": "markdown",
   "id": "d3b133d1-b878-4e57-a2c9-17c44ba186cb",
   "metadata": {},
   "source": [
    "The tree should now contain two strings."
   ]
  },
  {
   "cell_type": "code",
   "execution_count": 8,
   "id": "45c03393-62ad-43e1-8667-5847d338d740",
   "metadata": {
    "tags": []
   },
   "outputs": [
    {
     "data": {
      "text/plain": [
       "2"
      ]
     },
     "execution_count": 8,
     "metadata": {},
     "output_type": "execute_result"
    }
   ],
   "source": [
    "len(tst)"
   ]
  },
  {
   "cell_type": "code",
   "execution_count": 9,
   "id": "1713d80e-e2e1-42b7-b1e0-cdc70aec6ceb",
   "metadata": {},
   "outputs": [
    {
     "data": {
      "text/plain": [
       "['abc', 'aqt']"
      ]
     },
     "execution_count": 9,
     "metadata": {},
     "output_type": "execute_result"
    }
   ],
   "source": [
    "tst.all_strings()"
   ]
  },
  {
   "attachments": {},
   "cell_type": "markdown",
   "id": "7350133c-1484-485f-a8dc-1cac2c462ec7",
   "metadata": {},
   "source": [
    "Search for the string `'ab'`, it should be found since it is a prefix of `'abc'`."
   ]
  },
  {
   "cell_type": "code",
   "execution_count": 10,
   "id": "ddd71cf3-f887-4939-bae7-4a1c0a85a9e2",
   "metadata": {
    "tags": []
   },
   "outputs": [
    {
     "data": {
      "text/plain": [
       "True"
      ]
     },
     "execution_count": 10,
     "metadata": {},
     "output_type": "execute_result"
    }
   ],
   "source": [
    "tst.search('ab')"
   ]
  },
  {
   "attachments": {},
   "cell_type": "markdown",
   "id": "45443693-ae5a-4584-bab2-7c20e8331dcc",
   "metadata": {},
   "source": [
    "The string `'ac'` should not be found."
   ]
  },
  {
   "cell_type": "code",
   "execution_count": 11,
   "id": "3756d5c9-0286-463a-8962-a0878ec067e2",
   "metadata": {
    "tags": []
   },
   "outputs": [
    {
     "data": {
      "text/plain": [
       "False"
      ]
     },
     "execution_count": 11,
     "metadata": {},
     "output_type": "execute_result"
    }
   ],
   "source": [
    "tst.search('ac')"
   ]
  },
  {
   "attachments": {},
   "cell_type": "markdown",
   "id": "c244f370-77fa-4291-bc8d-b8a4e4c3a680",
   "metadata": {},
   "source": [
    "The tree can also contain the empty string."
   ]
  },
  {
   "cell_type": "code",
   "execution_count": 12,
   "id": "66a3fdd6-bb30-42ec-9f2e-73c880b40209",
   "metadata": {
    "tags": []
   },
   "outputs": [],
   "source": [
    "tst.insert('')"
   ]
  },
  {
   "cell_type": "code",
   "execution_count": 13,
   "id": "b94f344b-2c62-4b75-95e0-d79f609072fd",
   "metadata": {
    "tags": []
   },
   "outputs": [
    {
     "data": {
      "text/plain": [
       "3"
      ]
     },
     "execution_count": 13,
     "metadata": {},
     "output_type": "execute_result"
    }
   ],
   "source": [
    "len(tst)"
   ]
  },
  {
   "cell_type": "code",
   "execution_count": 14,
   "id": "be2221c7-57af-449c-b235-4b9257b98229",
   "metadata": {
    "tags": []
   },
   "outputs": [
    {
     "name": "stdout",
     "output_type": "stream",
     "text": [
      "└─char: a, terminates: False\n",
      "    └─char: b, terminates: False\n",
      "        └─char: c, terminates: True\n",
      "        └─char: q, terminates: False\n",
      "            └─char: t, terminates: True\n",
      "\n"
     ]
    }
   ],
   "source": [
    "print(tst)"
   ]
  },
  {
   "cell_type": "code",
   "execution_count": 15,
   "id": "024e8ed2-b336-4234-8131-cd695864cf9f",
   "metadata": {},
   "outputs": [
    {
     "data": {
      "text/plain": [
       "['abc', 'aqt', '']"
      ]
     },
     "execution_count": 15,
     "metadata": {},
     "output_type": "execute_result"
    }
   ],
   "source": [
    "tst.all_strings()"
   ]
  },
  {
   "attachments": {},
   "cell_type": "markdown",
   "id": "1fee5f92-87e7-4ddb-b6e0-9001d4084faf",
   "metadata": {},
   "source": [
    "# Testing"
   ]
  },
  {
   "attachments": {},
   "cell_type": "markdown",
   "id": "0f641fa7-aaf7-406e-813b-4a84645ca2fb",
   "metadata": {},
   "source": [
    "The file `insert_words.txt` contains words that we can insert into a tree."
   ]
  },
  {
   "cell_type": "code",
   "execution_count": 16,
   "id": "19431f68-eafd-4e62-a410-06a7c7ec4168",
   "metadata": {
    "tags": []
   },
   "outputs": [],
   "source": [
    "tst = TernarySearchTree()\n",
    "with open('insert_words.txt') as file:\n",
    "    words = [\n",
    "        line.strip() for line in file\n",
    "    ]\n",
    "for word in words:\n",
    "    tst.insert(word)\n",
    "unique_words = set(words)\n"
   ]
  },
  {
   "attachments": {},
   "cell_type": "markdown",
   "id": "09ff039a-3780-4ef8-bed7-e6da0715800a",
   "metadata": {},
   "source": [
    "Verify the length of the data stucture."
   ]
  },
  {
   "cell_type": "code",
   "execution_count": 17,
   "id": "18090742-7a3a-400a-a077-e2904901a123",
   "metadata": {
    "tags": []
   },
   "outputs": [],
   "source": [
    "assert len(tst) == len(unique_words), \\\n",
    "       f'{len(tst)} in tree, expected {len(unique_words)}'"
   ]
  },
  {
   "attachments": {},
   "cell_type": "markdown",
   "id": "3715acd0-09b0-4d1d-9b1b-c33c7cca6ec9",
   "metadata": {},
   "source": [
    "Verify that all words that were inserted can be found."
   ]
  },
  {
   "cell_type": "code",
   "execution_count": 18,
   "id": "83fd3f2d-13ef-4cf9-9631-2f7550939efb",
   "metadata": {
    "tags": []
   },
   "outputs": [],
   "source": [
    "for word in unique_words:\n",
    "    assert tst.search(word), f'{word} not found'"
   ]
  },
  {
   "attachments": {},
   "cell_type": "markdown",
   "id": "914240b6-1980-4436-9596-991258aac0d1",
   "metadata": {},
   "source": [
    "Verify that all prefixes can be found."
   ]
  },
  {
   "cell_type": "code",
   "execution_count": 19,
   "id": "7b320bc5-d544-4aa2-82f7-549eef526757",
   "metadata": {
    "tags": []
   },
   "outputs": [],
   "source": [
    "for word in unique_words:\n",
    "    for i in range(len(word) - 1, 0, -1):\n",
    "        prefix = word[:i]\n",
    "        assert tst.search(prefix), f'{prefix} not found'"
   ]
  },
  {
   "attachments": {},
   "cell_type": "markdown",
   "id": "5e67261a-0260-451c-b975-5406458b7fc9",
   "metadata": {},
   "source": [
    "Check that when searching for a exact match, only the inserted words are found, and no prefixes."
   ]
  },
  {
   "cell_type": "code",
   "execution_count": 20,
   "id": "c15f2bf1-e026-468d-86f1-b7bf7d4857a0",
   "metadata": {
    "tags": []
   },
   "outputs": [],
   "source": [
    "for word in unique_words:\n",
    "    for i in range(len(word), 0, -1):\n",
    "        prefix = word[:i]\n",
    "        if prefix not in unique_words:\n",
    "            assert not tst.search(prefix, exact=True), \\\n",
    "                   f'{prefix} found'"
   ]
  },
  {
   "attachments": {},
   "cell_type": "markdown",
   "id": "63ce21af-9e38-473e-9bfa-572fc00beb7d",
   "metadata": {},
   "source": [
    "Check that the empty string is in the tree (since it is a prefix of any string)."
   ]
  },
  {
   "cell_type": "code",
   "execution_count": 21,
   "id": "02796895-029a-4f1f-aebe-19315b5a7964",
   "metadata": {
    "tags": []
   },
   "outputs": [],
   "source": [
    "assert tst.search(''), 'empty string not found'"
   ]
  },
  {
   "attachments": {},
   "cell_type": "markdown",
   "id": "21485551-72ef-448f-a473-8fd94063a98a",
   "metadata": {},
   "source": [
    "Check that the empty string is not in the tree for an exact search."
   ]
  },
  {
   "cell_type": "code",
   "execution_count": 22,
   "id": "b3f7943c-ccc0-414a-a4bd-90398a09a829",
   "metadata": {
    "tags": []
   },
   "outputs": [],
   "source": [
    "assert not tst.search('', exact=True), 'empty string found'"
   ]
  },
  {
   "attachments": {},
   "cell_type": "markdown",
   "id": "122ef82d-a23d-4245-899f-b070e0b13b0a",
   "metadata": {},
   "source": [
    "Check that words in the file `data/search_trees/not_insert_words.txt` can not be found in the tree."
   ]
  },
  {
   "cell_type": "code",
   "execution_count": 23,
   "id": "90ea39d5-5c96-4e79-8dc8-80c55de1cea2",
   "metadata": {
    "tags": []
   },
   "outputs": [],
   "source": [
    "with open('not_insert_words.txt') as file:\n",
    "    for line in file:\n",
    "        word = line.strip()\n",
    "        assert not tst.search(word), f'{word} should not be found'"
   ]
  },
  {
   "attachments": {},
   "cell_type": "markdown",
   "id": "bc93c3f1-a829-484c-a11d-d598914c3b8f",
   "metadata": {},
   "source": [
    "Check that all strings are returned."
   ]
  },
  {
   "cell_type": "code",
   "execution_count": 24,
   "id": "c09d0cab-02db-452e-8ac1-837e108ab63d",
   "metadata": {},
   "outputs": [],
   "source": [
    "all_strings = tst.all_strings()\n",
    "assert len(all_strings) == len(unique_words), \\\n",
    "       f'{len(all_strings)} words, expected {len(unique_words)}'\n",
    "assert sorted(all_strings) == sorted(unique_words), 'words do not match'"
   ]
  },
  {
   "attachments": {},
   "cell_type": "markdown",
   "id": "4243d5d6-60d5-4f1b-857b-f26a4b1216a1",
   "metadata": {},
   "source": [
    "If not output was generated, all tests have passed."
   ]
  },
  {
   "attachments": {},
   "cell_type": "markdown",
   "id": "fbd168c9",
   "metadata": {},
   "source": [
    "### Complexity and scaling behaviour"
   ]
  },
  {
   "attachments": {},
   "cell_type": "markdown",
   "id": "3694ea53",
   "metadata": {},
   "source": [
    "#### Theoretical expectations complexity"
   ]
  },
  {
   "attachments": {},
   "cell_type": "markdown",
   "id": "29c5ef0c",
   "metadata": {},
   "source": [
    "**Search (exact)**:\n",
    "In the average case, which is defined as a well-balanced ternary search tree with randomly distributed words, the search tree exhibits a logarithmic complexity of **O(log n)**, with n being the nodes included in the search tree. The logarithmic complexity arises from the fact that each step where a recursive function on left, right or middle node is called reduces the available range of nodes that can belong to a word by a constant of 3 (in a perfectly balanced ternary tree). This means that the number of steps needed to find a word is the logarithm of the total amount of nodes stored in the search tree.\n",
    "\n",
    "Considering the worst-case scenario, where the words are inserted in sorted order leading to an unbalanced tree, time complexity of the function increases to **O(n)**, representing linear search. The lack of balance in the tree causes the search process to traverse the tree linearly, visiting each node in a sequential manner until the desired word is found, resulting in an inefficient search.\n",
    "\n",
    "In the case of search for a word that does not exist, time complexity still remains **O(log n)**. This is because the search process follows the same path which narrows down the search range logarithmically, even if a word is not found.\n",
    "\n",
    "**Search (prefix)**: \n",
    "The time complexity of search for a prefix is similar to the time complexity of search for an exact word, being **O(log n)**. This is the case because to get to appropriate position you still need to perform the same amount of comparisions as is done in the exact search.\n",
    "Similarly, the time complexity for sorted words in the search tree is **O(n)** and search for a prefix that does not exist is **O(log n)**.\n",
    "\n",
    "**Insert**:\n",
    "The time complexity for insertion of a word is in the average case (i.e., well-balanced ternary search tree with randomly distributed words) is **O(log n)**, with n being the nodes already included in the search tree. This complexity arises from the process in which the appropriate position is found for the new word. At each step, a comparison is made between the current node and the string input. From this comparison the original space that needs to be inspected and where the string can be inserted is reduced by a factor, allowing for efficient insertion.\n",
    "\n",
    "However, the worst-case scenario is for a highly unbalanced tree where the words in the tree are in sorted order and the word currently is next in this specific order. This case results in an increase in time complexity to **O(n)**, because all possible comparisons need to be made before the word can be inserted. In a best-case scenario the word that needs to be inserted is in reverse order compared to order the words already present in the tree. For such specific words the time complexity is **O(1)**.\n",
    "\n",
    "**All strings**:\n",
    "The time complexity of the functionality that returns all string from a ternary search tree is **O(n)** with n the numbers of nodes in the tree. Visiting a node enables the identification of the presence of a word. By using depth-first search the function ensures that each node is visited only once. Therefore, the time it takes to retrieve all words grows linearly with the amount of words (and their length) that are inserted in the tree structure. No best or worst cases can be identified for this function."
   ]
  },
  {
   "attachments": {},
   "cell_type": "markdown",
   "id": "7e94efc4",
   "metadata": {},
   "source": [
    "#### Scaling behaviour"
   ]
  },
  {
   "cell_type": "code",
   "execution_count": 25,
   "id": "f277eba7",
   "metadata": {},
   "outputs": [],
   "source": [
    "import random\n",
    "import time\n",
    "import matplotlib.pyplot as plt\n",
    "\n",
    "with open('corncob_lowercase.txt') as file:\n",
    "    words = [line.strip() for line in file]\n",
    "\n",
    "sizes = [100, 500, 1_000, 5_000, 10_000, 20_000, 30_000, 40_000, 50_000]\n",
    "\n",
    "samples = [\n",
    "    random.sample(words, k=size) for size in sizes\n",
    "]"
   ]
  },
  {
   "attachments": {},
   "cell_type": "markdown",
   "id": "c91a283d",
   "metadata": {},
   "source": [
    "**Search (exact):**"
   ]
  },
  {
   "cell_type": "code",
   "execution_count": 26,
   "id": "66edbdeb",
   "metadata": {},
   "outputs": [
    {
     "data": {
      "text/plain": [
       "{100: 0.1486035,\n",
       " 500: 0.1910035,\n",
       " 1000: 0.208441,\n",
       " 1500: 0.5899128,\n",
       " 2000: 0.4131836,\n",
       " 5000: 0.418423,\n",
       " 10000: 0.3696453,\n",
       " 15000: 0.2929119,\n",
       " 20000: 0.2873528,\n",
       " 30000: 0.3451296,\n",
       " 40000: 0.4578583,\n",
       " 50000: 0.3765477}"
      ]
     },
     "execution_count": 26,
     "metadata": {},
     "output_type": "execute_result"
    }
   ],
   "source": [
    "nr_runs = 1_000\n",
    "times = {}\n",
    "search_sample = random.sample(words, k=20)\n",
    "for sample in samples:\n",
    "    tst = TernarySearchTree()\n",
    "    for word in sample:\n",
    "        tst.insert(word)\n",
    "    times[len(sample)] = 0.0\n",
    "    for _ in range(nr_runs):\n",
    "        start_time = time.time_ns()\n",
    "        for word in search_sample:\n",
    "            tst.search(word, exact='True')\n",
    "        end_time = time.time_ns()\n",
    "        times[len(sample)] += end_time - start_time\n",
    "    times[len(sample)] /= nr_runs*1_000_000.0\n",
    "times"
   ]
  },
  {
   "cell_type": "code",
   "execution_count": 31,
   "id": "835eec66",
   "metadata": {},
   "outputs": [
    {
     "data": {
      "image/png": "[encoded data removed]",
      "text/plain": [
       "<Figure size 640x480 with 1 Axes>"
      ]
     },
     "metadata": {},
     "output_type": "display_data"
    }
   ],
   "source": [
    "plt.plot(times.keys(), times.values());"
   ]
  },
  {
   "attachments": {},
   "cell_type": "markdown",
   "id": "07fd8688",
   "metadata": {},
   "source": [
    "From the above plot, no clear time complexity pattern can be identified due to the large time variability between input sizes. Most likely, these fluctuations are of random nature and no conclusions about the complexity of the search function can be made in this way."
   ]
  },
  {
   "attachments": {},
   "cell_type": "markdown",
   "id": "636f6c2e",
   "metadata": {},
   "source": [
    "Since the scaling test with a maximum of 50.000 words stored in the ternary search tree does not suffice in capturing the scaling behaviour of the search function of the ternary search tree, a larger ternary search tree is sought after. For this purpose, a list of 497.187 words if gathered from www.wordfrequency.info, containing words that appear at least four times in the Corpus of Contemporary American English (COCA). The full list of the words and their associated frequencies can be found at https://raw.githubusercontent.com/nicklink483/wordlist/master/words.txt.\n",
    "\n",
    "This word list will be used for all of the following scaling tests."
   ]
  },
  {
   "cell_type": "code",
   "execution_count": 28,
   "id": "3e685620",
   "metadata": {},
   "outputs": [
    {
     "data": {
      "text/plain": [
       "497187"
      ]
     },
     "execution_count": 28,
     "metadata": {},
     "output_type": "execute_result"
    }
   ],
   "source": [
    "with open('full_word_list.txt') as file:\n",
    "    words_full = [line.strip() for line in file]\n",
    "\n",
    "len(words_full)"
   ]
  },
  {
   "cell_type": "code",
   "execution_count": 29,
   "id": "3c6b569b",
   "metadata": {},
   "outputs": [],
   "source": [
    "sizes = [100, 1_000, 2_500, 5_000, 10_000, 15_000, 25_000, 50_000, 100_000, 150_000, 200_000, 250_000, 300_000, 350_000, 400_000, 450_000]\n",
    "\n",
    "\n",
    "samples_full = [\n",
    "    random.sample(words_full, k=size) for size in sizes\n",
    "]"
   ]
  },
  {
   "cell_type": "code",
   "execution_count": 33,
   "id": "3f7d74f4",
   "metadata": {},
   "outputs": [
    {
     "data": {
      "text/plain": [
       "{100: 0.20657988,\n",
       " 1000: 0.18975692,\n",
       " 2500: 0.22897198,\n",
       " 5000: 0.23770686,\n",
       " 10000: 0.29811921,\n",
       " 15000: 0.32994514,\n",
       " 25000: 0.28459269,\n",
       " 50000: 0.38562097,\n",
       " 100000: 0.4153346,\n",
       " 150000: 0.360994,\n",
       " 200000: 0.4315297,\n",
       " 250000: 0.46156985,\n",
       " 300000: 0.50700726,\n",
       " 350000: 0.3695988,\n",
       " 400000: 0.3904541,\n",
       " 450000: 0.37650703}"
      ]
     },
     "execution_count": 33,
     "metadata": {},
     "output_type": "execute_result"
    }
   ],
   "source": [
    "nr_runs = 10_000\n",
    "times = {}\n",
    "search_sample = random.sample(words_full, k=20)\n",
    "for sample in samples_full:\n",
    "    tst = TernarySearchTree()\n",
    "    for word in sample:\n",
    "        tst.insert(word)\n",
    "    times[len(sample)] = 0.0\n",
    "    for _ in range(nr_runs):\n",
    "        start_time = time.time_ns()\n",
    "        for word in search_sample:\n",
    "            tst.search(word, exact='True')\n",
    "        end_time = time.time_ns()\n",
    "        times[len(sample)] += end_time - start_time\n",
    "    times[len(sample)] /= nr_runs*1_000_000.0\n",
    "times"
   ]
  },
  {
   "cell_type": "code",
   "execution_count": 34,
   "id": "2409eae0",
   "metadata": {},
   "outputs": [
    {
     "data": {
      "image/png": "[encoded data removed]",
      "text/plain": [
       "<Figure size 640x480 with 1 Axes>"
      ]
     },
     "metadata": {},
     "output_type": "display_data"
    }
   ],
   "source": [
    "plt.plot(times.keys(), times.values());"
   ]
  },
  {
   "attachments": {},
   "cell_type": "markdown",
   "id": "620943aa",
   "metadata": {},
   "source": [
    "From the plot above it is evident that the execution time for searching a word in the ternary tree greatly increases between the tree size of 100 and 100.000 words (0.2 to 0.42). However, from the size of 100.000 words onwards we do not see such an increasing trend anymore, for example, from 100.000 to 200.000 words there is only an increase of 0.02 in execution time. These characteristics concur with the logistic time complexity described above. "
   ]
  },
  {
   "attachments": {},
   "cell_type": "markdown",
   "id": "5b2df2a7",
   "metadata": {},
   "source": [
    "**Search (prefix):**"
   ]
  },
  {
   "cell_type": "code",
   "execution_count": 40,
   "id": "4f8a33a8",
   "metadata": {},
   "outputs": [
    {
     "data": {
      "text/plain": [
       "{100: 0.15124592,\n",
       " 1000: 0.1695916,\n",
       " 2500: 0.18218387,\n",
       " 5000: 0.19588035,\n",
       " 10000: 0.23632347,\n",
       " 15000: 0.25740843,\n",
       " 25000: 0.25275054,\n",
       " 50000: 0.27280785,\n",
       " 100000: 0.35132248,\n",
       " 150000: 0.2771573,\n",
       " 200000: 0.31482407,\n",
       " 250000: 0.31073431,\n",
       " 300000: 0.29066177,\n",
       " 350000: 0.36283702,\n",
       " 400000: 0.42540381,\n",
       " 450000: 0.29840756}"
      ]
     },
     "execution_count": 40,
     "metadata": {},
     "output_type": "execute_result"
    }
   ],
   "source": [
    "nr_runs = 10_000\n",
    "times = {}\n",
    "\n",
    "search_sample = random.sample(words_full, k=20)\n",
    "random_sample = [sample_word[:-2] for sample_word in search_sample]\n",
    "\n",
    "for sample in samples_full:\n",
    "    tst = TernarySearchTree()\n",
    "    for word in sample:\n",
    "        tst.insert(word)\n",
    "    times[len(sample)] = 0.0\n",
    "    for _ in range(nr_runs):\n",
    "        start_time = time.time_ns()\n",
    "        for word in search_sample:\n",
    "            tst.search(word)\n",
    "        end_time = time.time_ns()\n",
    "        times[len(sample)] += end_time - start_time\n",
    "    times[len(sample)] /= nr_runs*1_000_000.0\n",
    "times"
   ]
  },
  {
   "cell_type": "code",
   "execution_count": 41,
   "id": "42db4acf",
   "metadata": {},
   "outputs": [
    {
     "data": {
      "image/png": "[encoded data removed]",
      "text/plain": [
       "<Figure size 640x480 with 1 Axes>"
      ]
     },
     "metadata": {},
     "output_type": "display_data"
    }
   ],
   "source": [
    "plt.plot(times.keys(), times.values());"
   ]
  },
  {
   "attachments": {},
   "cell_type": "markdown",
   "id": "c6fa825c",
   "metadata": {},
   "source": [
    "Similarly for prefix search, an increase in tree size of 100 to 100.000 words also greatly increases the mean execution time (0.15 to 0.35), while any further increases in tree size do not show this clear increasing relationship. Again, this pattern agrees with the logarithmic time complexity of the prefix search function."
   ]
  },
  {
   "attachments": {},
   "cell_type": "markdown",
   "id": "ac26a23b",
   "metadata": {},
   "source": [
    "**Insert:**"
   ]
  },
  {
   "cell_type": "code",
   "execution_count": 80,
   "id": "2362e1e1",
   "metadata": {},
   "outputs": [
    {
     "data": {
      "text/plain": [
       "{100: 0.2816196,\n",
       " 1000: 0.39974623,\n",
       " 2500: 0.42646535,\n",
       " 5000: 0.39203367,\n",
       " 10000: 0.40757471,\n",
       " 15000: 0.41100411,\n",
       " 25000: 0.3781619,\n",
       " 50000: 0.31115062,\n",
       " 100000: 0.33292689,\n",
       " 150000: 0.39531586,\n",
       " 200000: 0.48163119,\n",
       " 250000: 0.3805746,\n",
       " 300000: 0.41025469,\n",
       " 350000: 0.3811099,\n",
       " 400000: 0.40646884,\n",
       " 450000: 0.41799134}"
      ]
     },
     "execution_count": 80,
     "metadata": {},
     "output_type": "execute_result"
    }
   ],
   "source": [
    "nr_runs = 10_000\n",
    "times = {}\n",
    "insert_sample = random.sample(words_full, k=20)\n",
    "for sample in samples_full:\n",
    "    tst = TernarySearchTree()\n",
    "    for word in sample:\n",
    "        tst.insert(word)\n",
    "    times[len(sample)] = 0.0\n",
    "    for _ in range(nr_runs):\n",
    "        start_time = time.time_ns()\n",
    "        for word in insert_sample:\n",
    "            tst.insert(word)\n",
    "        end_time = time.time_ns()\n",
    "        times[len(sample)] += end_time - start_time\n",
    "    times[len(sample)] /= nr_runs*1_000_000.0\n",
    "times"
   ]
  },
  {
   "cell_type": "code",
   "execution_count": 81,
   "id": "32b1c9e3",
   "metadata": {},
   "outputs": [
    {
     "data": {
      "image/png": "[encoded data removed]",
      "text/plain": [
       "<Figure size 640x480 with 1 Axes>"
      ]
     },
     "metadata": {},
     "output_type": "display_data"
    }
   ],
   "source": [
    "plt.plot(times.keys(), times.values());"
   ]
  },
  {
   "attachments": {},
   "cell_type": "markdown",
   "id": "ecb0f44d",
   "metadata": {},
   "source": [
    "The pattern of the scaling behaviour of the insert function is a bit less clear. Although, we are still able to identify a large increase in execution time between a tree size of 100 and 15.000 (0.28 to 0.41), the further function between tree size and mean execution time is difficult to describe. Still, this is far from a linear relationship and is still closer to a logarithmic relationship between execution time and tree size."
   ]
  },
  {
   "attachments": {},
   "cell_type": "markdown",
   "id": "974d6912",
   "metadata": {},
   "source": [
    "**All strings:**"
   ]
  },
  {
   "cell_type": "code",
   "execution_count": 99,
   "id": "f00076de",
   "metadata": {},
   "outputs": [
    {
     "data": {
      "text/plain": [
       "{100: 1.09699,\n",
       " 5000: 34.80691,\n",
       " 25000: 169.37687,\n",
       " 50000: 348.22501,\n",
       " 100000: 491.88492,\n",
       " 150000: 596.01681,\n",
       " 200000: 1042.30048,\n",
       " 250000: 1139.90535,\n",
       " 300000: 1135.92705,\n",
       " 350000: 1200.48981,\n",
       " 400000: 1252.63925,\n",
       " 450000: 1506.43641}"
      ]
     },
     "execution_count": 99,
     "metadata": {},
     "output_type": "execute_result"
    }
   ],
   "source": [
    "nr_runs = 10\n",
    "times = {}\n",
    "# search 20 words in tree structure\n",
    "insert_sample = random.sample(words_full, k=20)\n",
    "for sample in samples_full:\n",
    "    tst = TernarySearchTree()\n",
    "    for word in sample:\n",
    "        tst.insert(word)\n",
    "    times[len(sample)] = 0.0\n",
    "    for _ in range(nr_runs):\n",
    "        start_time = time.time_ns()\n",
    "        tst.all_strings()\n",
    "        end_time = time.time_ns()\n",
    "        times[len(sample)] += end_time - start_time\n",
    "    times[len(sample)] /= nr_runs*1_000_000.0\n",
    "times"
   ]
  },
  {
   "cell_type": "code",
   "execution_count": 100,
   "id": "e73014af",
   "metadata": {},
   "outputs": [
    {
     "data": {
      "image/png": "[encoded data removed]",
      "text/plain": [
       "<Figure size 640x480 with 1 Axes>"
      ]
     },
     "metadata": {},
     "output_type": "display_data"
    }
   ],
   "source": [
    "plt.plot(times.keys(), times.values());"
   ]
  },
  {
   "attachments": {},
   "cell_type": "markdown",
   "id": "f60054e6",
   "metadata": {},
   "source": [
    "From the above plot it is clear that the execution time of the all strings function has a linear relationship with the tree size. This relationship was indeed hypothesized in the time complexity section. With increasing tree size execution time also increases and this effect is not slowing down like seen in the logarithmic relationships."
   ]
  },
  {
   "attachments": {},
   "cell_type": "markdown",
   "id": "214c3e85",
   "metadata": {},
   "source": [
    "## Benchmark test"
   ]
  },
  {
   "attachments": {},
   "cell_type": "markdown",
   "id": "1873e5a6",
   "metadata": {},
   "source": [
    "To evaluate the overall performance of the ternary tree functions a benchmark test is performed."
   ]
  },
  {
   "cell_type": "code",
   "execution_count": 7,
   "id": "a3b50979",
   "metadata": {},
   "outputs": [],
   "source": [
    "tst = TernarySearchTree()\n",
    "\n",
    "with open('full_word_list.txt') as file:\n",
    "    words = [\n",
    "        line.strip() for line in file\n",
    "    ]"
   ]
  },
  {
   "cell_type": "code",
   "execution_count": 8,
   "id": "fa26af07",
   "metadata": {},
   "outputs": [],
   "source": [
    "import pytest\n",
    "\n",
    "def insert_words(words):\n",
    "    for word in words:\n",
    "        tst.insert(word)\n",
    "\n",
    "@pytest.mark.benchmark\n",
    "def test_insert(benchmark):\n",
    "    benchmark(insert_words, words)\n",
    "\n",
    "\n",
    "@pytest.mark.benchmark\n",
    "def test_search(benchmark):\n",
    "    benchmark(tst.search, \"proxy\")\n",
    "\n",
    "@pytest.mark.benchmark\n",
    "def test_all_search(benchmark):\n",
    "    benchmark(tst.all_strings)"
   ]
  },
  {
   "attachments": {},
   "cell_type": "markdown",
   "id": "71b8347e",
   "metadata": {},
   "source": [
    "| Name (time in us) | Min             | Max             | Mean            | StdDev         | Median          | IQR            |\n",
    "|-------------------|-----------------|-----------------|-----------------|----------------|-----------------|----------------|\n",
    "| test_search       | 31.2880         | 281.6000        | 34.9378         | 7.4970         | 34.1330         | 0.5700         |\n",
    "| test_all_search   | 1,232,972.5820  | 1,955,066.8670  | 1,488,283.7298  | 290,537.6370   | 1,384,650.9180  | 387,349.0163   |\n",
    "| test_insert       | 15,079,314.5120 | 18,963,927.3140 | 16,353,968.6836 | 1,544,126.5399 | 15,737,625.5250 | 1,692,361.7257 |"
   ]
  },
  {
   "attachments": {},
   "cell_type": "markdown",
   "id": "2c15a153",
   "metadata": {},
   "source": [
    "Results of the benchmark test are shown in microseconds. For all functions, the minimum, maximum, mean and median execution time is provided, together with the standard deviation and IQR. It is clear that the search function is the fasted, with a mean execution time of 0.034938 milliseconds (SD = 0.007497 milliseconds). Secondly, the function that returns all strings has a mean execution time of 1.4883 seconds (SD = 0.29 seconds). It makes sense that this function has a larger execution time. Whereas the search function halts execution when an appropriate endpoint is reached, thus only traversing a small portion of the graph, the all strings function is required to have visited all points in the graph. Lastly, the insert function has a mean execution time of 16.353 seconds (SD = 1.544 seconds). Note that this execution time is based on the creation of an entire tree structure, not the insertion of one word. In this case, the benchmarking procedure used the list of 497.187 words to insert in the graph. Benchmark test with different input data sizes would result in different execution time estimations.\n",
    "\n"
   ]
  },
  {
   "attachments": {},
   "cell_type": "markdown",
   "id": "7c6902e9",
   "metadata": {},
   "source": [
    "This code also has tested with small dataset includes 1000 entries."
   ]
  },
  {
   "cell_type": "code",
   "execution_count": null,
   "id": "6b26d749",
   "metadata": {},
   "outputs": [],
   "source": [
    "tst_2 = TernarySearchTree()\n",
    "\n",
    "with open('small_dataset.txt') as file:\n",
    "    words = [\n",
    "        line.strip() for line in file\n",
    "    ]"
   ]
  },
  {
   "cell_type": "code",
   "execution_count": null,
   "id": "0caa6ec5",
   "metadata": {},
   "outputs": [],
   "source": [
    "import pytest\n",
    "\n",
    "def insert_words(words):\n",
    "    for word in words:\n",
    "        tst.insert(word)\n",
    "\n",
    "@pytest.mark.benchmark\n",
    "def test_insert(benchmark):\n",
    "    benchmark(insert_words, words)\n",
    "\n",
    "\n",
    "@pytest.mark.benchmark\n",
    "def test_search(benchmark):\n",
    "    benchmark(tst.search, \"proxy\")\n",
    "\n",
    "@pytest.mark.benchmark\n",
    "def test_all_search(benchmark):\n",
    "    benchmark(tst.all_strings)"
   ]
  },
  {
   "attachments": {},
   "cell_type": "markdown",
   "id": "e2f87250",
   "metadata": {},
   "source": [
    "\n",
    "Name (time in us)                Min                       Max                      Mean                  StdDev                    Median                     IQR                    \n",
    "------------------------------------------------------------------------------------------------------------------------------------------------------------------------------\n",
    "test_search                  18.5000 (1.0)            134.1000 (1.0)             21.0843 (1.0)            5.8295 (1.0)             18.9000 (1.0)            0.2000 (1.0)             \n",
    "test_all_search         663,283.0000 (>1000.0)    700,649.9000 (>1000.0)    672,816.3600 (>1000.0)   15,829.3590 (>1000.0)    666,162.8000 (>1000.0)   14,601.5500 (>1000.0)             \n",
    "test_insert           6,855,520.1000 (>1000.0)  7,344,132.3000 (>1000.0)  7,006,138.9400 (>1000.0)  202,033.0030 (>1000.0)  6,935,841.8000 (>1000.0)  250,087.0750 (>1000.0)             \n",
    "-------------------------------------------------------------------------------------------------------------------------------------------------------------------------------"
   ]
  },
  {
   "attachments": {},
   "cell_type": "markdown",
   "metadata": {},
   "source": [
    "This code also have tested with small dataset.the results are shown in microseconds.Function test search has a mean execution time 0.021 milliseconds.it appears that \"test_search\" has the lowest execution times on average, with a relatively small standard deviation(0.000005829 seconds) and IQR, indicating consistent performance.Function test_all_search which return all strings,in average has a 0.67281636 seconds execution time.Test_insert in average has a mean execution time 7.00613894 seconds,which this results show this function  has significantly higher execution times, a larger standard deviation(0.202033003seconds), and a wider IQR, suggesting more variability in the results.\n",
    "\n",
    "\n",
    "Overall, these execution times provide arguments for an efficient implementation of the ternary tree structure and its associated functions."
   ]
  }
 ],
 "metadata": {
  "kernelspec": {
   "display_name": "Python 3 (ipykernel)",
   "language": "python",
   "name": "python3"
  },
  "language_info": {
   "codemirror_mode": {
    "name": "ipython",
    "version": 3
   },
   "file_extension": ".py",
   "mimetype": "text/x-python",
   "name": "python",
   "nbconvert_exporter": "python",
   "pygments_lexer": "ipython3",
   "version": "3.8.16"
  }
 },
 "nbformat": 4,
 "nbformat_minor": 5
}
